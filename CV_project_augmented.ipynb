{
 "cells": [
  {
   "cell_type": "markdown",
   "metadata": {},
   "source": [
    "# CNN classifier\n",
    "\n",
    "https://cs230.stanford.edu/lecture/"
   ]
  },
  {
   "cell_type": "code",
   "execution_count": 1,
   "metadata": {},
   "outputs": [],
   "source": [
    "import torch \n",
    "import torch.nn as nn\n",
    "import torch.nn.functional as F\n",
    "from torchvision import datasets, transforms\n",
    "from torch.utils.data import DataLoader, random_split, ConcatDataset\n",
    "import torch.optim as optim\n",
    "from torch.optim import lr_scheduler\n",
    "import numpy as np\n",
    "import matplotlib.pyplot as plt\n",
    "import os\n",
    "import time\n",
    "import copy\n",
    "from sklearn.metrics import confusion_matrix"
   ]
  },
  {
   "cell_type": "code",
   "execution_count": 2,
   "metadata": {},
   "outputs": [
    {
     "name": "stdout",
     "output_type": "stream",
     "text": [
      "NVIDIA GeForce GTX 1650 Ti\n",
      "32\n",
      "6\n"
     ]
    }
   ],
   "source": [
    "AVAIL_GPUS = min(1, torch.cuda.device_count())\n",
    "#BATCH_SIZE = 256 if AVAIL_GPUS else 64\n",
    "BATCH_SIZE = 32\n",
    "NUM_WORKERS = int(os.cpu_count() / 2)\n",
    "device = torch.device(\"cuda\" if torch.cuda.is_available() else \"cpu\")\n",
    "print(torch.cuda.get_device_name() if torch.cuda.is_available() else None)\n",
    "print(BATCH_SIZE)\n",
    "print(NUM_WORKERS)"
   ]
  },
  {
   "cell_type": "code",
   "execution_count": 3,
   "metadata": {},
   "outputs": [],
   "source": [
    "class ImageLoader:\n",
    "    '''\n",
    "    Args:\n",
    "    root is the path where are stored the folders.\n",
    "    phase can be 'train' or 'test', in function if\n",
    "    you want a training (Augmented) or test (original) dataset.\n",
    "    batch_size\n",
    "    num_workers\n",
    "    '''\n",
    "    def __init__(self, root_train, root_test, phase, batch_size, num_workers):\n",
    "        self.phase = phase\n",
    "        self.root_train = root_train\n",
    "        self.root_test = root_test\n",
    "        self.batch_size = batch_size\n",
    "        self.num_workers = num_workers\n",
    "        \n",
    "    def apply(self):\n",
    "        transforms_dict = {\n",
    "            'augmented': transforms.Compose([transforms.Resize((64,64)),\n",
    "                                    transforms.Grayscale(num_output_channels=1),\n",
    "                                    transforms.ToTensor(),\n",
    "                                    transforms.RandomHorizontalFlip(),\n",
    "                                    transforms.RandomVerticalFlip()]),\n",
    "            'origin': transforms.Compose([transforms.Resize((64,64)),\n",
    "                                 transforms.Grayscale(num_output_channels=1),\n",
    "                                 transforms.ToTensor()])}\n",
    "\n",
    "        df_augmented = datasets.ImageFolder(root=self.root_train, transform=transforms_dict['augmented'])\n",
    "        df_origin = datasets.ImageFolder(root=self.root_train, transform=transforms_dict['origin'])\n",
    "        df_train, df_val = random_split(df_origin, (round(0.85*len(df_origin)), round(0.15*len(df_origin))))\n",
    "        \n",
    "        df = ConcatDataset([df_train, df_augmented])\n",
    "        print('train', len(df))\n",
    "        print('val', len(df_val))\n",
    "\n",
    "        if self.phase == 'train':\n",
    "    \n",
    "            train_loader = DataLoader(df, batch_size=self.batch_size,\n",
    "                                      shuffle=True, num_workers=self.num_workers)\n",
    "            val_loader = DataLoader(df_val, batch_size=self.batch_size,\n",
    "                                    shuffle=False, num_workers=self.num_workers)\n",
    "            return [train_loader, val_loader]\n",
    "        else:\n",
    "            df_test = datasets.ImageFolder(root=self.root_test, transform=transforms_dict['origin'])\n",
    "            print('test', len(df_test))\n",
    "                                           \n",
    "            test_loader = DataLoader(df_test, batch_size=self.batch_size,\n",
    "                                     shuffle=False, num_workers=self.num_workers)\n",
    "            return test_loader"
   ]
  },
  {
   "cell_type": "code",
   "execution_count": 4,
   "metadata": {},
   "outputs": [
    {
     "name": "stdout",
     "output_type": "stream",
     "text": [
      "train 2775\n",
      "val 225\n",
      "train 2775\n",
      "val 225\n",
      "test 2985\n"
     ]
    }
   ],
   "source": [
    "path_train = '/Users/giaco/Desktop/DSSC/CVproject/train/'\n",
    "path_test = '/Users/giaco/Desktop/DSSC/CVproject/test/'\n",
    "load_train = ImageLoader(root_train=path_train, root_test=path_test , phase='train', batch_size=BATCH_SIZE, num_workers=NUM_WORKERS)\n",
    "img_train = load_train.apply()\n",
    "\n",
    "load_test = ImageLoader(root_train=path_train, root_test=path_test, phase='test', batch_size=BATCH_SIZE, num_workers=NUM_WORKERS)\n",
    "img_test = load_test.apply()"
   ]
  },
  {
   "cell_type": "code",
   "execution_count": 23,
   "metadata": {},
   "outputs": [],
   "source": [
    "df = datasets.ImageFolder(root='/Users/giaco/Desktop/DSSC/CVproject/train/', transform=transforms.Compose([transforms.Resize((64,64), interpolation=transforms.InterpolationMode.NEAREST),\n",
    "                                                                                                     transforms.Grayscale(num_output_channels=1),\n",
    "                                                                                                        transforms.ToTensor()]))\n",
    "df_test = datasets.ImageFolder(root='/Users/giaco/Desktop/DSSC/CVproject/test/', transform=transforms.Compose([transforms.Resize((64,64), interpolation=transforms.InterpolationMode.NEAREST),\n",
    "                                                                                                            transforms.Grayscale(num_output_channels=1),\n",
    "                                                                                                            transforms.ToTensor()]))\n",
    "                                                                                                            \n",
    "dataloader = {\n",
    "    'train': img_train[0],\n",
    "    'val': img_train[1],\n",
    "    'test': img_test\n",
    "}\n",
    "\n",
    "dataset_size = {\n",
    "    'train': 2775,\n",
    "    'val': 255,\n",
    "    'test': 2985\n",
    "}                                                                "
   ]
  },
  {
   "cell_type": "code",
   "execution_count": 6,
   "metadata": {},
   "outputs": [],
   "source": [
    "dataiter = iter(img_train[0])\n",
    "images, labels = dataiter.next()"
   ]
  },
  {
   "cell_type": "code",
   "execution_count": 7,
   "metadata": {},
   "outputs": [],
   "source": [
    "def imshow(img, label):\n",
    "    classes = df.classes\n",
    "    plt.imshow(img.permute(1, 2, 0))\n",
    "    plt.title('label:' + str(classes[label]))\n",
    "    plt.show()"
   ]
  },
  {
   "cell_type": "code",
   "execution_count": 10,
   "metadata": {},
   "outputs": [
    {
     "data": {
      "image/png": "[encoded data removed]",
      "text/plain": [
       "<Figure size 432x288 with 1 Axes>"
      ]
     },
     "metadata": {
      "needs_background": "light"
     },
     "output_type": "display_data"
    },
    {
     "data": {
      "text/plain": [
       "torch.Size([1, 64, 64])"
      ]
     },
     "execution_count": 10,
     "metadata": {},
     "output_type": "execute_result"
    }
   ],
   "source": [
    "n = int(np.random.randint(0, BATCH_SIZE))\n",
    "imshow(images[n], labels[n])\n",
    "images[n].shape"
   ]
  },
  {
   "cell_type": "code",
   "execution_count": 11,
   "metadata": {},
   "outputs": [],
   "source": [
    "def initialize_weights(m):\n",
    "  if isinstance(m, nn.Conv2d):\n",
    "      nn.init.kaiming_uniform_(m.weight.data,nonlinearity='relu')\n",
    "      if m.bias is not None:\n",
    "          nn.init.constant_(m.bias.data, 0)\n",
    "  elif isinstance(m, nn.Linear):\n",
    "      nn.init.kaiming_uniform_(m.weight.data)\n",
    "      nn.init.constant_(m.bias.data, 0)"
   ]
  },
  {
   "cell_type": "code",
   "execution_count": 12,
   "metadata": {},
   "outputs": [],
   "source": [
    "class CNN(nn.Module):\n",
    "    def __init__(self):\n",
    "        super(CNN, self).__init__()\n",
    "        \n",
    "        self.cnn1 = nn.Conv2d(1, 8, 3, stride=1)\n",
    "        self.conv1_bn = nn.BatchNorm2d(8)\n",
    "        self.maxpool1 = nn.MaxPool2d(kernel_size=2,stride=2)\n",
    "        self.drop1 = nn.Dropout(0.5)\n",
    "\n",
    "        self.cnn2 = nn.Conv2d(8, 16, 3, stride=1)\n",
    "        self.conv2_bn = nn.BatchNorm2d(16)\n",
    "        self.maxpool2 = nn.MaxPool2d(kernel_size=2, stride=2)\n",
    "        self.drop2 = nn.Dropout(0.5)\n",
    "\n",
    "        self.cnn3 = nn.Conv2d(16, 32, 3, stride=1)\n",
    "        self.conv3_bn = nn.BatchNorm2d(32)\n",
    "        self.drop3 = nn.Dropout(0.2)\n",
    "\n",
    "        self.fc = nn.Linear(4608, 15)\n",
    "        self.fc_bn = nn.BatchNorm1d(15)\n",
    "        self.dropfc = nn.Dropout(0.2)\n",
    "        \n",
    "\n",
    "    # Prediction\n",
    "    def forward(self, x):\n",
    "        x = self.cnn1(x)\n",
    "        x = self.conv1_bn(x)\n",
    "        x = torch.relu(x)\n",
    "        x = self.maxpool1(x)\n",
    "        x = self.cnn2(x)\n",
    "        x = self.conv2_bn(x)\n",
    "        x = torch.relu(x)\n",
    "        x = self.maxpool2(x)\n",
    "        x = self.cnn3(x)\n",
    "        x = self.conv3_bn(x)\n",
    "        x = x.view(x.size(0),-1)\n",
    "        x = self.fc(x)\n",
    "        x = self.fc_bn(x)\n",
    "        \n",
    "        return x"
   ]
  },
  {
   "cell_type": "code",
   "execution_count": 13,
   "metadata": {},
   "outputs": [
    {
     "data": {
      "text/plain": [
       "CNN(\n",
       "  (cnn1): Conv2d(1, 8, kernel_size=(3, 3), stride=(1, 1))\n",
       "  (conv1_bn): BatchNorm2d(8, eps=1e-05, momentum=0.1, affine=True, track_running_stats=True)\n",
       "  (maxpool1): MaxPool2d(kernel_size=2, stride=2, padding=0, dilation=1, ceil_mode=False)\n",
       "  (drop1): Dropout(p=0.5, inplace=False)\n",
       "  (cnn2): Conv2d(8, 16, kernel_size=(3, 3), stride=(1, 1))\n",
       "  (conv2_bn): BatchNorm2d(16, eps=1e-05, momentum=0.1, affine=True, track_running_stats=True)\n",
       "  (maxpool2): MaxPool2d(kernel_size=2, stride=2, padding=0, dilation=1, ceil_mode=False)\n",
       "  (drop2): Dropout(p=0.5, inplace=False)\n",
       "  (cnn3): Conv2d(16, 32, kernel_size=(3, 3), stride=(1, 1))\n",
       "  (conv3_bn): BatchNorm2d(32, eps=1e-05, momentum=0.1, affine=True, track_running_stats=True)\n",
       "  (drop3): Dropout(p=0.2, inplace=False)\n",
       "  (fc): Linear(in_features=4608, out_features=15, bias=True)\n",
       "  (fc_bn): BatchNorm1d(15, eps=1e-05, momentum=0.1, affine=True, track_running_stats=True)\n",
       "  (dropfc): Dropout(p=0.2, inplace=False)\n",
       ")"
      ]
     },
     "execution_count": 13,
     "metadata": {},
     "output_type": "execute_result"
    }
   ],
   "source": [
    "model = CNN()\n",
    "model.apply(initialize_weights)\n",
    "#model.to(device)\n",
    "#model.state_dict()"
   ]
  },
  {
   "cell_type": "code",
   "execution_count": 14,
   "metadata": {},
   "outputs": [],
   "source": [
    "criterion = nn.CrossEntropyLoss()\n",
    "optimizer = optimizer = torch.optim.Adam(model.parameters(), lr=0.001)\n",
    "exp_lr_scheduler = lr_scheduler.StepLR(optimizer, step_size=7, gamma=0.1)"
   ]
  },
  {
   "cell_type": "code",
   "execution_count": 15,
   "metadata": {
    "id": "diFSQMBz8mDV"
   },
   "outputs": [],
   "source": [
    "from torch.utils.tensorboard import SummaryWriter\n",
    "writer = SummaryWriter()"
   ]
  },
  {
   "cell_type": "code",
   "execution_count": 16,
   "metadata": {
    "id": "2oF-6zamYBBc"
   },
   "outputs": [],
   "source": [
    "def train_model(model, criterion, optimizer, scheduler, num_epochs=30):\n",
    "    since = time.time()\n",
    "\n",
    "    best_model_wts = copy.deepcopy(model.state_dict())\n",
    "    best_acc = 0.0\n",
    "\n",
    "    for epoch in range(num_epochs):\n",
    "        print(f'Epoch {epoch}/{num_epochs - 1}')\n",
    "        print('-' * 10)\n",
    "\n",
    "        # Each epoch has a training and validation phase\n",
    "        for phase in ['train', 'val']:\n",
    "            if phase == 'train':\n",
    "                model.train()  # Set model to training mode\n",
    "            else:\n",
    "                model.eval()   # Set model to evaluate mode\n",
    "\n",
    "            running_loss = 0.0\n",
    "            running_corrects = 0\n",
    "\n",
    "            # Iterate over data.\n",
    "            for inputs, labels in dataloader[phase]:\n",
    "                #inputs = inputs.to(device)\n",
    "                #labels = labels.to(device)\n",
    "\n",
    "                # zero the parameter gradients\n",
    "                optimizer.zero_grad()\n",
    "\n",
    "                # forward\n",
    "                # track history if only in train\n",
    "                with torch.set_grad_enabled(phase == 'train'):\n",
    "                    outputs = model(inputs)\n",
    "                    _, preds = torch.max(outputs, 1)\n",
    "                    loss = criterion(outputs, labels)\n",
    "\n",
    "                    # backward + optimize only if in training phase\n",
    "                    if phase == 'train':\n",
    "                        loss.backward()\n",
    "                        optimizer.step()\n",
    "\n",
    "                # statistics\n",
    "                running_loss += loss.item() * inputs.size(0)\n",
    "                running_corrects += torch.sum(preds == labels.data)\n",
    "            if phase == 'train':\n",
    "                scheduler.step()\n",
    "            \n",
    "          \n",
    "            epoch_loss = running_loss / dataset_size[phase]\n",
    "            epoch_acc = running_corrects.double() / dataset_size[phase]\n",
    "\n",
    "            writer.add_scalar(f\"Loss {phase}\", epoch_loss, epoch)\n",
    "            writer.add_scalar(f\"Acc {phase}\", epoch_acc, epoch)\n",
    "\n",
    "            print(f'{phase} Loss: {epoch_loss:.4f} Acc: {epoch_acc:.4f}')\n",
    "\n",
    "            # deep copy the model\n",
    "            if phase == 'val' and epoch_acc > best_acc:\n",
    "                best_acc = epoch_acc\n",
    "                best_model_wts = copy.deepcopy(model.state_dict())\n",
    "\n",
    "        print()\n",
    "\n",
    "    time_elapsed = time.time() - since\n",
    "    print(f'Training complete in {time_elapsed // 60:.0f}m {time_elapsed % 60:.0f}s')\n",
    "    print(f'Best val Acc: {best_acc:4f}')\n",
    "\n",
    "    # load best model weights\n",
    "    model.load_state_dict(best_model_wts)\n",
    "    return model"
   ]
  },
  {
   "cell_type": "code",
   "execution_count": 17,
   "metadata": {},
   "outputs": [
    {
     "name": "stdout",
     "output_type": "stream",
     "text": [
      "Epoch 0/24\n",
      "----------\n",
      "train Loss: 2.2847 Acc: 0.2764\n",
      "val Loss: 1.7743 Acc: 0.3451\n",
      "\n",
      "Epoch 1/24\n",
      "----------\n",
      "train Loss: 1.7590 Acc: 0.5038\n",
      "val Loss: 1.6173 Acc: 0.4275\n",
      "\n",
      "Epoch 2/24\n",
      "----------\n",
      "train Loss: 1.5093 Acc: 0.6216\n",
      "val Loss: 1.4168 Acc: 0.4941\n",
      "\n",
      "Epoch 3/24\n",
      "----------\n",
      "train Loss: 1.3366 Acc: 0.6959\n",
      "val Loss: 1.3597 Acc: 0.5098\n",
      "\n",
      "Epoch 4/24\n",
      "----------\n",
      "train Loss: 1.1991 Acc: 0.7308\n",
      "val Loss: 1.2552 Acc: 0.5608\n",
      "\n",
      "Epoch 5/24\n",
      "----------\n",
      "train Loss: 1.0838 Acc: 0.7751\n",
      "val Loss: 1.1654 Acc: 0.5569\n",
      "\n",
      "Epoch 6/24\n",
      "----------\n",
      "train Loss: 1.0096 Acc: 0.7975\n",
      "val Loss: 1.0003 Acc: 0.6471\n",
      "\n",
      "Epoch 7/24\n",
      "----------\n",
      "train Loss: 0.8907 Acc: 0.8339\n",
      "val Loss: 0.9808 Acc: 0.6980\n",
      "\n",
      "Epoch 8/24\n",
      "----------\n",
      "train Loss: 0.8792 Acc: 0.8295\n",
      "val Loss: 0.9740 Acc: 0.6902\n",
      "\n",
      "Epoch 9/24\n",
      "----------\n",
      "train Loss: 0.8709 Acc: 0.8360\n",
      "val Loss: 0.9654 Acc: 0.6824\n",
      "\n",
      "Epoch 10/24\n",
      "----------\n",
      "train Loss: 0.8418 Acc: 0.8461\n",
      "val Loss: 0.9256 Acc: 0.7059\n",
      "\n",
      "Epoch 11/24\n",
      "----------\n",
      "train Loss: 0.8376 Acc: 0.8479\n",
      "val Loss: 0.9098 Acc: 0.6980\n",
      "\n",
      "Epoch 12/24\n",
      "----------\n",
      "train Loss: 0.8193 Acc: 0.8418\n",
      "val Loss: 0.8972 Acc: 0.7255\n",
      "\n",
      "Epoch 13/24\n",
      "----------\n",
      "train Loss: 0.8195 Acc: 0.8393\n",
      "val Loss: 0.8948 Acc: 0.7176\n",
      "\n",
      "Epoch 14/24\n",
      "----------\n",
      "train Loss: 0.8153 Acc: 0.8458\n",
      "val Loss: 0.8897 Acc: 0.7176\n",
      "\n",
      "Epoch 15/24\n",
      "----------\n",
      "train Loss: 0.7991 Acc: 0.8483\n",
      "val Loss: 0.9043 Acc: 0.7137\n",
      "\n",
      "Epoch 16/24\n",
      "----------\n",
      "train Loss: 0.8168 Acc: 0.8483\n",
      "val Loss: 0.8830 Acc: 0.7176\n",
      "\n",
      "Epoch 17/24\n",
      "----------\n",
      "train Loss: 0.8027 Acc: 0.8551\n",
      "val Loss: 0.8934 Acc: 0.7216\n",
      "\n",
      "Epoch 18/24\n",
      "----------\n",
      "train Loss: 0.7941 Acc: 0.8523\n",
      "val Loss: 0.9016 Acc: 0.7020\n",
      "\n",
      "Epoch 19/24\n",
      "----------\n",
      "train Loss: 0.7876 Acc: 0.8533\n",
      "val Loss: 0.8979 Acc: 0.7176\n",
      "\n",
      "Epoch 20/24\n",
      "----------\n",
      "train Loss: 0.8068 Acc: 0.8577\n",
      "val Loss: 0.8869 Acc: 0.7059\n",
      "\n",
      "Epoch 21/24\n",
      "----------\n",
      "train Loss: 0.7907 Acc: 0.8537\n",
      "val Loss: 0.9017 Acc: 0.7059\n",
      "\n",
      "Epoch 22/24\n",
      "----------\n",
      "train Loss: 0.8115 Acc: 0.8440\n",
      "val Loss: 0.8884 Acc: 0.7059\n",
      "\n",
      "Epoch 23/24\n",
      "----------\n",
      "train Loss: 0.7826 Acc: 0.8587\n",
      "val Loss: 0.8859 Acc: 0.7098\n",
      "\n",
      "Epoch 24/24\n",
      "----------\n",
      "train Loss: 0.7857 Acc: 0.8544\n",
      "val Loss: 0.8725 Acc: 0.7294\n",
      "\n",
      "Training complete in 19m 45s\n",
      "Best val Acc: 0.729412\n"
     ]
    }
   ],
   "source": [
    "Model = train_model(model, criterion, optimizer, exp_lr_scheduler, num_epochs=25)\n",
    "writer.flush()"
   ]
  },
  {
   "cell_type": "code",
   "execution_count": 18,
   "metadata": {},
   "outputs": [],
   "source": [
    "torch.save(Model.state_dict(), \"/Users/giaco/Desktop/PyTorch/CV-project/model_dict_augmented.pt\")"
   ]
  },
  {
   "cell_type": "code",
   "execution_count": 19,
   "metadata": {},
   "outputs": [
    {
     "data": {
      "text/plain": [
       "Reusing TensorBoard on port 6006 (pid 17068), started 7:55:12 ago. (Use '!kill 17068' to kill it.)"
      ]
     },
     "metadata": {},
     "output_type": "display_data"
    },
    {
     "data": {
      "text/html": [
       "\n",
       "      <iframe id=\"tensorboard-frame-1cd98232418ced3c\" width=\"100%\" height=\"800\" frameborder=\"0\">\n",
       "      </iframe>\n",
       "      <script>\n",
       "        (function() {\n",
       "          const frame = document.getElementById(\"tensorboard-frame-1cd98232418ced3c\");\n",
       "          const url = new URL(\"http://localhost\");\n",
       "          const port = 6006;\n",
       "          if (port) {\n",
       "            url.port = port;\n",
       "          }\n",
       "          frame.src = url;\n",
       "        })();\n",
       "      </script>\n",
       "    "
      ],
      "text/plain": [
       "<IPython.core.display.HTML object>"
      ]
     },
     "metadata": {},
     "output_type": "display_data"
    }
   ],
   "source": [
    "writer.close()\n",
    "import tensorboard\n",
    "%load_ext tensorboard\n",
    "# %reload_ext tensorboard\n",
    "%tensorboard --logdir=runs"
   ]
  },
  {
   "cell_type": "code",
   "execution_count": 20,
   "metadata": {},
   "outputs": [],
   "source": [
    "# @torch.no_grad()\n",
    "def get_predict(model, loader):\n",
    "    predict_tensor = torch.tensor([])\n",
    "    for batch in loader:\n",
    "        images, labels = batch\n",
    "        \n",
    "        predict = model(images)\n",
    "        # _, preds = torch.max(predict, 1)\n",
    "        \n",
    "        predict_tensor = torch.cat(\n",
    "            (predict_tensor, predict),\n",
    "            dim=0)\n",
    "\n",
    "    return predict_tensor"
   ]
  },
  {
   "cell_type": "code",
   "execution_count": 30,
   "metadata": {},
   "outputs": [
    {
     "data": {
      "text/plain": [
       "torch.Size([2985, 15])"
      ]
     },
     "execution_count": 30,
     "metadata": {},
     "output_type": "execute_result"
    }
   ],
   "source": [
    "with torch.no_grad():\n",
    "    test_predict = get_predict(Model, img_test)\n",
    "    \n",
    "test_predict.shape"
   ]
  },
  {
   "cell_type": "code",
   "execution_count": 31,
   "metadata": {},
   "outputs": [
    {
     "name": "stdout",
     "output_type": "stream",
     "text": [
      "False\n",
      "None\n",
      "None\n"
     ]
    }
   ],
   "source": [
    "print(test_predict.requires_grad)\n",
    "print(test_predict.grad)\n",
    "print(test_predict.grad_fn)"
   ]
  },
  {
   "cell_type": "code",
   "execution_count": 32,
   "metadata": {},
   "outputs": [
    {
     "name": "stdout",
     "output_type": "stream",
     "text": [
      "1258\n",
      "0.4214405360134003\n"
     ]
    }
   ],
   "source": [
    "def get_num_correct(preds, labels):\n",
    "    return preds.argmax(dim=1).eq(labels).sum().item()\n",
    "\n",
    "predict_correct = get_num_correct(test_predict, torch.tensor(df_test.targets))\n",
    "\n",
    "print(predict_correct)\n",
    "print(predict_correct/len(df_test))"
   ]
  },
  {
   "cell_type": "code",
   "execution_count": 33,
   "metadata": {},
   "outputs": [
    {
     "data": {
      "text/plain": [
       "torch.Size([2985, 2])"
      ]
     },
     "execution_count": 33,
     "metadata": {},
     "output_type": "execute_result"
    }
   ],
   "source": [
    "stacked = torch.stack(\n",
    "    (torch.tensor(df_test.targets),\n",
    "    #test_predict.int()),\n",
    "    test_predict.argmax(dim=1)),\n",
    "    dim=1\n",
    ")\n",
    "stacked.shape"
   ]
  },
  {
   "cell_type": "code",
   "execution_count": 34,
   "metadata": {},
   "outputs": [],
   "source": [
    "cmt = torch.zeros(15,15, dtype=torch.int32)\n",
    "for p in stacked:\n",
    "    i,j = p.tolist()\n",
    "    cmt[i,j] = cmt[i,j] + 1"
   ]
  },
  {
   "cell_type": "code",
   "execution_count": 35,
   "metadata": {},
   "outputs": [],
   "source": [
    "import itertools\n",
    "import numpy as np\n",
    "import matplotlib.pyplot as plt\n",
    "\n",
    "def plot_confusion_matrix(cm, classes, normalize=False, title='Confusion matrix', cmap=plt.cm.Blues):\n",
    "    if normalize:\n",
    "        cm = cm.astype('float') / cm.sum(axis=1)[:, np.newaxis]\n",
    "        print(\"Normalized confusion matrix\")\n",
    "    else:\n",
    "        print('Confusion matrix, without normalization')\n",
    "\n",
    "    print(cm)\n",
    "    plt.imshow(cm, interpolation='nearest', cmap=cmap)\n",
    "    plt.title(title)\n",
    "    plt.colorbar()\n",
    "    tick_marks = np.arange(len(classes))\n",
    "    plt.xticks(tick_marks, classes, rotation=45)\n",
    "    plt.yticks(tick_marks, classes)\n",
    "\n",
    "    fmt = '.2f' if normalize else 'd'\n",
    "    thresh = cm.max() / 2.\n",
    "    for i, j in itertools.product(range(cm.shape[0]), range(cm.shape[1])):\n",
    "        plt.text(j, i, format(cm[i, j], fmt), horizontalalignment=\"center\", color=\"white\" if cm[i, j] > thresh else \"black\")\n",
    "\n",
    "    plt.tight_layout()\n",
    "    plt.ylabel('True label')\n",
    "    plt.xlabel('Predicted label')"
   ]
  },
  {
   "cell_type": "code",
   "execution_count": 36,
   "metadata": {},
   "outputs": [
    {
     "name": "stdout",
     "output_type": "stream",
     "text": [
      "Confusion matrix, without normalization\n",
      "[[ 30   8   0   6   6   4  15  11   8   8   1   1   6   3   9]\n",
      " [  1 154   3  34   1   4   0   0   5   1  53   0   1   3   0]\n",
      " [  0   3 134   0   6   1   1   2  29   2  18  21   3   2   6]\n",
      " [  2  17   1 100   2   3   1   2   2   0  21   1   4   3   1]\n",
      " [ 23  19   9   3  36  18   3  14  12   8  13  20   5   7  21]\n",
      " [  5   8   6   2  11  44  25  14   3  10  21  23   4  14  18]\n",
      " [ 16   6   1   2   5   5  28  10   8   6   2   6   3   5   7]\n",
      " [ 30   2   2   1  13   7  29  42   8  13   4  11   6  11  10]\n",
      " [  5  13  22   8  10   0   0   5 153   4  27   8   9   7   3]\n",
      " [ 11   2   0   2   4   6  11   7   1  51   2   1   4   5   8]\n",
      " [  3  76  23  29   2   6   1   0  16   4 129   6   5   7   3]\n",
      " [  6   4  14   1  10  13  15   8  18  11   6  77   8  16   8]\n",
      " [  9   3  14   6   5   5   4  12   5   5   8  10  92  10   4]\n",
      " [  5   4   3   1   5   6   1   7   4   1   9   5  10  77   3]\n",
      " [ 21   9  11   1  17  15   5  25   4  13   7   8   6   3 111]]\n"
     ]
    },
    {
     "data": {
      "image/png": "[encoded data removed]",
      "text/plain": [
       "<Figure size 1080x1080 with 2 Axes>"
      ]
     },
     "metadata": {
      "needs_background": "light"
     },
     "output_type": "display_data"
    }
   ],
   "source": [
    "cm = confusion_matrix(torch.tensor(df_test.targets), test_predict.argmax(dim=1))\n",
    "\n",
    "names = df_test.classes\n",
    "plt.figure(figsize=(15,15))\n",
    "plot_confusion_matrix(cm, names)"
   ]
  },
  {
   "cell_type": "code",
   "execution_count": 38,
   "metadata": {},
   "outputs": [],
   "source": [
    "def imshow(inp, title=None):\n",
    "    \"\"\"Imshow for Tensor.\"\"\"\n",
    "    inp = inp.numpy().transpose((1, 2, 0))\n",
    "    plt.imshow(inp)\n",
    "    if title is not None:\n",
    "        plt.title(title)\n",
    "    plt.pause(0.001)  # pause a bit so that plots are updated\n",
    "\n",
    "\n",
    "\n",
    "def visualize_model(model, num_images=10):\n",
    "    model.load_state_dict(torch.load(\"/Users/giaco/Desktop/PyTorch/CV-project/model_dict_augmented.pt\"))\n",
    "    was_training = model.training\n",
    "    model.eval()\n",
    "    images_so_far = 0\n",
    "    fig = plt.figure()\n",
    "\n",
    "    with torch.no_grad():\n",
    "        for i, (inputs, labels) in enumerate(dataloader['test']):\n",
    "            #inputs = inputs.to(device)\n",
    "            #labels = labels.to(device)\n",
    "\n",
    "            outputs = model(inputs)\n",
    "            _, preds = torch.max(outputs, 1)\n",
    "\n",
    "            for j in range(inputs.size()[0]):\n",
    "                images_so_far += 1\n",
    "                ax = plt.subplot(num_images//2, 2, images_so_far)\n",
    "                ax.axis('off')\n",
    "                ax.set_title(f'predicted: {df.classes[preds[j]]}')\n",
    "                imshow(inputs.cpu().data[j])\n",
    "\n",
    "                if images_so_far == num_images:\n",
    "                    model.train(mode=was_training)\n",
    "                    return\n",
    "        model.train(mode=was_training)"
   ]
  },
  {
   "cell_type": "code",
   "execution_count": 39,
   "metadata": {},
   "outputs": [
    {
     "data": {
      "image/png": "[encoded data removed]",
      "text/plain": [
       "<Figure size 432x288 with 1 Axes>"
      ]
     },
     "metadata": {
      "needs_background": "light"
     },
     "output_type": "display_data"
    },
    {
     "data": {
      "image/png": "[encoded data removed]",
      "text/plain": [
       "<Figure size 432x288 with 1 Axes>"
      ]
     },
     "metadata": {
      "needs_background": "light"
     },
     "output_type": "display_data"
    },
    {
     "data": {
      "image/png": "[encoded data removed]",
      "text/plain": [
       "<Figure size 432x288 with 1 Axes>"
      ]
     },
     "metadata": {
      "needs_background": "light"
     },
     "output_type": "display_data"
    },
    {
     "data": {
      "image/png": "[encoded data removed]",
      "text/plain": [
       "<Figure size 432x288 with 1 Axes>"
      ]
     },
     "metadata": {
      "needs_background": "light"
     },
     "output_type": "display_data"
    },
    {
     "data": {
      "image/png": "[encoded data removed]",
      "text/plain": [
       "<Figure size 432x288 with 1 Axes>"
      ]
     },
     "metadata": {
      "needs_background": "light"
     },
     "output_type": "display_data"
    },
    {
     "data": {
      "image/png": "[encoded data removed]",
      "text/plain": [
       "<Figure size 432x288 with 1 Axes>"
      ]
     },
     "metadata": {
      "needs_background": "light"
     },
     "output_type": "display_data"
    },
    {
     "data": {
      "image/png": "[encoded data removed]",
      "text/plain": [
       "<Figure size 432x288 with 1 Axes>"
      ]
     },
     "metadata": {
      "needs_background": "light"
     },
     "output_type": "display_data"
    },
    {
     "data": {
      "image/png": "[encoded data removed]",
      "text/plain": [
       "<Figure size 432x288 with 1 Axes>"
      ]
     },
     "metadata": {
      "needs_background": "light"
     },
     "output_type": "display_data"
    },
    {
     "data": {
      "image/png": "[encoded data removed]",
      "text/plain": [
       "<Figure size 432x288 with 1 Axes>"
      ]
     },
     "metadata": {
      "needs_background": "light"
     },
     "output_type": "display_data"
    },
    {
     "data": {
      "image/png": "[encoded data removed]",
      "text/plain": [
       "<Figure size 432x288 with 1 Axes>"
      ]
     },
     "metadata": {
      "needs_background": "light"
     },
     "output_type": "display_data"
    }
   ],
   "source": [
    "visualize_model(Model)"
   ]
  },
  {
   "cell_type": "code",
   "execution_count": null,
   "metadata": {},
   "outputs": [],
   "source": [
    "# softmax classifier\n",
    "\n",
    "class SoftMax(nn.Module):\n",
    "    \n",
    "    # Constructor\n",
    "    def __init__(self, input_size, output_size):\n",
    "        super(SoftMax, self).__init__()\n",
    "        self.linear = nn.Linear(input_size, output_size)\n",
    "        \n",
    "    # Prediction\n",
    "    def forward(self, x):\n",
    "        z = self.linear(x)\n",
    "        return z"
   ]
  }
 ],
 "metadata": {
  "interpreter": {
   "hash": "5ca6fba6cd343157984bf9ab78c17ea43484b522abbae068c469a0354c66129a"
  },
  "kernelspec": {
   "display_name": "Python 3.9.7 ('base')",
   "language": "python",
   "name": "python3"
  },
  "language_info": {
   "codemirror_mode": {
    "name": "ipython",
    "version": 3
   },
   "file_extension": ".py",
   "mimetype": "text/x-python",
   "name": "python",
   "nbconvert_exporter": "python",
   "pygments_lexer": "ipython3",
   "version": "3.9.7"
  },
  "orig_nbformat": 4
 },
 "nbformat": 4,
 "nbformat_minor": 2
}
